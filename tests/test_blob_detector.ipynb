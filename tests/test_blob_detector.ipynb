{
 "cells": [
  {
   "cell_type": "code",
   "execution_count": 1,
   "id": "31edbacf",
   "metadata": {},
   "outputs": [],
   "source": [
    "import sys\n",
    "\n",
    "import oct2py\n",
    "import numpy as np\n",
    "from numpy.testing import assert_allclose\n",
    "from skimage.filters import threshold_otsu\n",
    "import matplotlib.pyplot as plt\n",
    "import scipy.ndimage\n",
    "\n",
    "oc = oct2py.Oct2Py()\n",
    "oc.pkg('load', 'image')\n",
    "\n",
    "sys.path.append('../lccd-python/')\n",
    "import blob_detector\n",
    "import test_utils"
   ]
  },
  {
   "cell_type": "code",
   "execution_count": 2,
   "id": "d784eb72",
   "metadata": {},
   "outputs": [],
   "source": [
    "# Test blob_detector.matlab_style_gauss2D\n",
    "filtersize1 = 100\n",
    "filtersize2 = 4\n",
    "sigma = 1.25\n",
    "flsize = 7\n",
    "assert_allclose(blob_detector.matlab_style_gauss2D((flsize, flsize), sigma),\n",
    "                oc.fspecial('gaussian', flsize, sigma)\n",
    "               )"
   ]
  },
  {
   "cell_type": "code",
   "execution_count": 3,
   "id": "c5370814",
   "metadata": {},
   "outputs": [],
   "source": [
    "# Test blob_detector.im2bw\n",
    "I = np.random.uniform(0, 4, size=(32, 32))\n",
    "level = np.random.uniform(0, 1)\n",
    "\n",
    "assert_allclose(\n",
    "    blob_detector.im2bw(I, level),\n",
    "    oc.im2bw(I, level)\n",
    ")"
   ]
  },
  {
   "cell_type": "code",
   "execution_count": 4,
   "id": "91c3b053",
   "metadata": {},
   "outputs": [],
   "source": [
    "# Test blob_detector.filter_closed_regions_by_area\n",
    "arr = np.zeros((256, 256), dtype='int64')\n",
    "arr[10: 20, 1: 2] = 1 # area = 10\n",
    "arr[30: 40, 3: 6] = 2 # area = 30\n",
    "arr[50: 60, 7: 17] = 3 # area = 100\n",
    "\n",
    "ca = np.zeros((256, 256), dtype='int64')\n",
    "ca[30: 40, 3: 6] = 2\n",
    "\n",
    "\n",
    "res = blob_detector.filter_closed_regions_by_area(arr, 20, 50)\n",
    "assert_allclose(ca, res)"
   ]
  },
  {
   "cell_type": "code",
   "execution_count": 31,
   "id": "582e904a",
   "metadata": {},
   "outputs": [],
   "source": [
    "X = 64\n",
    "Y = 64\n",
    "T = 1000\n",
    "min_area, max_area = 20, 100\n",
    "bd = blob_detector.BlobDetector(filtersize1, filtersize2, sigma, flsize, min_area, max_area, matlab_conv=True, debug=True)\n",
    "tv = np.random.uniform(0, 1, size=(X, Y, T)) + 1e-8 # tv in R^(XY x T) _+\n",
    "python_res = bd.apply(tv)"
   ]
  },
  {
   "cell_type": "code",
   "execution_count": 32,
   "id": "511941ff",
   "metadata": {},
   "outputs": [
    {
     "name": "stdout",
     "output_type": "stream",
     "text": [
      "\n",
      "Not equal to tolerance rtol=1e-07, atol=0\n",
      "\n",
      "Mismatched elements: 2480 / 3364 (73.7%)\n",
      "Max absolute difference: 0.0350906\n",
      "Max relative difference: 698.59307228\n",
      " x: array([[0.016457, 0.013094, 0.      , ..., 0.010105, 0.014736, 0.003477],\n",
      "       [0.006801, 0.004134, 0.      , ..., 0.      , 0.000548, 0.      ],\n",
      "       [0.004413, 0.00074 , 0.      , ..., 0.      , 0.      , 0.      ],...\n",
      " y: array([[0.016457, 0.006801, 0.004413, ..., 0.004597, 0.005382, 0.      ],\n",
      "       [0.013094, 0.004134, 0.00074 , ..., 0.004558, 0.005749, 0.      ],\n",
      "       [0.      , 0.      , 0.      , ..., 0.      , 0.005517, 0.002848],...\n"
     ]
    }
   ],
   "source": [
    "mavefil1 = oc.ones(1, {filtersize1}) / filtersize1\n",
    "mavefil2 = oc.ones(1, {filtersize2}) / filtersize2\n",
    "tv = tv.reshape(-1, T)\n",
    "smooth_tv = oc.max(oc.conv2(tv, mavefil2, 'same') - oc.conv2(tv, mavefil1, 'same'), 0)\n",
    "assert_allclose(python_res[\"smooth_tv\"], smooth_tv)\n",
    "\n",
    "max_lumi_map = oc.max(smooth_tv, [], 2)\n",
    "assert_allclose(max_lumi_map.flatten(), python_res[\"max_lumi_map\"].flatten())\n",
    "\n",
    "sp_fil = oc.fspecial('gaussian', flsize, sigma) - oc.fspecial('average', flsize)\n",
    "assert_allclose(sp_fil, bd.sp_fil)\n",
    "\n",
    "lumi_map = oc.max(oc.conv2(oc.reshape(max_lumi_map, X, Y), sp_fil, 'valid'), 0)\n",
    "try:\n",
    "    assert_allclose(python_res[\"lumi_map\"], lumi_map) # ASSERT!\n",
    "except Exception as e:\n",
    "    print(e)\n",
    "    lumi_map = python_res[\"lumi_map\"]"
   ]
  },
  {
   "cell_type": "code",
   "execution_count": 33,
   "id": "a23b5dc5",
   "metadata": {},
   "outputs": [],
   "source": [
    "cont_enhanced_map = python_res[\"cont_enhanced_map\"]"
   ]
  },
  {
   "cell_type": "code",
   "execution_count": 34,
   "id": "af90765e",
   "metadata": {},
   "outputs": [
    {
     "name": "stdout",
     "output_type": "stream",
     "text": [
      "\n",
      "Not equal to tolerance rtol=1e-07, atol=0\n",
      "\n",
      "Mismatched elements: 1 / 1 (100%)\n",
      "Max absolute difference: 0.0009421\n",
      "Max relative difference: 0.00363991\n",
      " x: array(0.259766)\n",
      " y: array(0.258824)\n"
     ]
    }
   ],
   "source": [
    "threshold = oc.graythresh(cont_enhanced_map)\n",
    "try:\n",
    "    assert_allclose(python_res[\"threshold\"], threshold)\n",
    "except Exception as e:\n",
    "    print(e)\n",
    "    threshold = python_res[\"threshold\"]"
   ]
  },
  {
   "cell_type": "code",
   "execution_count": 35,
   "id": "8aa85ca5",
   "metadata": {},
   "outputs": [],
   "source": [
    "bwm = oc.im2bw(cont_enhanced_map, threshold)\n",
    "assert_allclose(python_res[\"bwm\"], bwm)"
   ]
  },
  {
   "cell_type": "code",
   "execution_count": 36,
   "id": "be642860",
   "metadata": {},
   "outputs": [],
   "source": [
    "test_utils.same_labels(python_res[\"label_mat\"], oc.bwlabel(bwm, 8))"
   ]
  },
  {
   "cell_type": "code",
   "execution_count": 37,
   "id": "d8c4e4e4",
   "metadata": {},
   "outputs": [],
   "source": [
    "label_mat2 = python_res[\"label_mat2\"]"
   ]
  },
  {
   "cell_type": "code",
   "execution_count": null,
   "id": "4bb9d0d5",
   "metadata": {},
   "outputs": [],
   "source": []
  }
 ],
 "metadata": {
  "kernelspec": {
   "display_name": "Python 3",
   "language": "python",
   "name": "python3"
  },
  "language_info": {
   "codemirror_mode": {
    "name": "ipython",
    "version": 3
   },
   "file_extension": ".py",
   "mimetype": "text/x-python",
   "name": "python",
   "nbconvert_exporter": "python",
   "pygments_lexer": "ipython3",
   "version": "3.8.10"
  }
 },
 "nbformat": 4,
 "nbformat_minor": 5
}
