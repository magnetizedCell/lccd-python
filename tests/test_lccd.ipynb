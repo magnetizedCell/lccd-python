{
 "cells": [
  {
   "cell_type": "code",
   "execution_count": 1,
   "id": "7abc476e",
   "metadata": {},
   "outputs": [],
   "source": [
    "import json\n",
    "import sys\n",
    "\n",
    "import numpy as np\n",
    "import matplotlib.pyplot as plt\n",
    "\n",
    "sys.path.append('../lccd-python/')\n",
    "import blob_detector\n",
    "import test_utils\n",
    "import data_synthesizer\n",
    "from lccd import LCCD"
   ]
  },
  {
   "cell_type": "code",
   "execution_count": 2,
   "id": "c5faaec6",
   "metadata": {},
   "outputs": [],
   "source": [
    "X = 256\n",
    "Y = 256\n",
    "T = 1000\n",
    "np.random.seed(314)\n",
    "\n",
    "v = data_synthesizer.syntesize_data(X, Y, T, 64)"
   ]
  },
  {
   "cell_type": "code",
   "execution_count": 8,
   "id": "d10f98f7",
   "metadata": {},
   "outputs": [
    {
     "name": "stdout",
     "output_type": "stream",
     "text": [
      "{'blob_detector': {'filtersize1': 100,\n",
      "                   'filtersize2': 4,\n",
      "                   'fsize': 7,\n",
      "                   'max_area': 50,\n",
      "                   'min_area': 20,\n",
      "                   'sigma': 1.25},\n",
      " 'lccd': {'frame_divider': 100},\n",
      " 'roi_integration': {'max_area': 100, 'min_area': 20, 'overlap_threshold': 0.4}}\n"
     ]
    }
   ],
   "source": [
    "with open('../config/config.json', 'r') as f:\n",
    "    config = json.load(f)\n",
    "import pprint\n",
    "pprint.pprint(config)"
   ]
  },
  {
   "cell_type": "code",
   "execution_count": 4,
   "id": "a462d769",
   "metadata": {},
   "outputs": [],
   "source": [
    "lccd = LCCD(config)"
   ]
  },
  {
   "cell_type": "code",
   "execution_count": 5,
   "id": "f73f39be",
   "metadata": {},
   "outputs": [],
   "source": [
    "roi = lccd.apply(v)"
   ]
  },
  {
   "cell_type": "code",
   "execution_count": 6,
   "id": "df654314",
   "metadata": {},
   "outputs": [
    {
     "data": {
      "text/plain": [
       "<matplotlib.image.AxesImage at 0x7fbb1c0f6370>"
      ]
     },
     "execution_count": 6,
     "metadata": {},
     "output_type": "execute_result"
    },
    {
     "data": {
      "image/png": "[encoded data removed]",
      "text/plain": [
       "<Figure size 432x288 with 1 Axes>"
      ]
     },
     "metadata": {
      "needs_background": "light"
     },
     "output_type": "display_data"
    }
   ],
   "source": [
    "sqrt = int(np.sqrt(roi.shape[0]))\n",
    "plt.imshow(np.sum(roi, 1).reshape(sqrt, sqrt))"
   ]
  },
  {
   "cell_type": "code",
   "execution_count": null,
   "id": "690aca58",
   "metadata": {},
   "outputs": [],
   "source": []
  }
 ],
 "metadata": {
  "kernelspec": {
   "display_name": "Python 3",
   "language": "python",
   "name": "python3"
  },
  "language_info": {
   "codemirror_mode": {
    "name": "ipython",
    "version": 3
   },
   "file_extension": ".py",
   "mimetype": "text/x-python",
   "name": "python",
   "nbconvert_exporter": "python",
   "pygments_lexer": "ipython3",
   "version": "3.8.10"
  }
 },
 "nbformat": 4,
 "nbformat_minor": 5
}
