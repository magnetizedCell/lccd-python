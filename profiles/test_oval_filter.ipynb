{
 "cells": [
  {
   "cell_type": "code",
   "execution_count": 2,
   "id": "1ec81849",
   "metadata": {},
   "outputs": [],
   "source": [
    "import sys\n",
    "\n",
    "import oct2py\n",
    "import numpy as np\n",
    "from numpy.testing import assert_allclose\n",
    "from skimage.filters import threshold_otsu\n",
    "import matplotlib.pyplot as plt\n",
    "import scipy.ndimage\n",
    "import skimage.measure\n",
    "\n",
    "oc = oct2py.Oct2Py()\n",
    "oc.pkg('load', 'image')\n",
    "\n",
    "sys.path.append('../lccd_python/')\n",
    "import blob_detector\n",
    "import test_utils"
   ]
  },
  {
   "cell_type": "code",
   "execution_count": 3,
   "id": "0e1e8aa1",
   "metadata": {},
   "outputs": [
    {
     "name": "stdout",
     "output_type": "stream",
     "text": [
      "36.95041722813605 36.932370625238775\n",
      "23.094010767585033 23.065125189341593\n",
      "0.7806247497997997 0.7810061936289645\n"
     ]
    }
   ],
   "source": [
    "arr = np.zeros((64, 64), dtype=np.uint8)\n",
    "arr[16: 48, 20: 40] = 1\n",
    "\n",
    "print(oc.regionprops(arr, 'MajorAxisLength').MajorAxisLength,\n",
    "      skimage.measure.regionprops(arr)[0].axis_major_length)\n",
    "print(oc.regionprops(arr, 'MinorAxisLength').MinorAxisLength,\n",
    "      skimage.measure.regionprops(arr)[0].axis_minor_length)\n",
    "print(oc.regionprops(arr, 'Eccentricity').Eccentricity,\n",
    "      skimage.measure.regionprops(arr)[0].eccentricity)"
   ]
  },
  {
   "cell_type": "code",
   "execution_count": null,
   "id": "6127fdfb",
   "metadata": {},
   "outputs": [],
   "source": []
  }
 ],
 "metadata": {
  "kernelspec": {
   "display_name": "Python 3",
   "language": "python",
   "name": "python3"
  },
  "language_info": {
   "codemirror_mode": {
    "name": "ipython",
    "version": 3
   },
   "file_extension": ".py",
   "mimetype": "text/x-python",
   "name": "python",
   "nbconvert_exporter": "python",
   "pygments_lexer": "ipython3",
   "version": "3.8.10"
  }
 },
 "nbformat": 4,
 "nbformat_minor": 5
}
