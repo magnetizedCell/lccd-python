{
 "cells": [
  {
   "cell_type": "code",
   "execution_count": 1,
   "id": "7abc476e",
   "metadata": {},
   "outputs": [],
   "source": [
    "import json\n",
    "import sys\n",
    "\n",
    "\n",
    "import numpy as np\n",
    "import matplotlib.pyplot as plt\n",
    "\n",
    "sys.path.append('../lccd_python/')\n",
    "import blob_detector\n",
    "import test_utils\n",
    "import data_synthesizer\n",
    "import oval_filter\n",
    "from lccd import LCCD"
   ]
  },
  {
   "cell_type": "code",
   "execution_count": 10,
   "id": "c5faaec6",
   "metadata": {},
   "outputs": [],
   "source": [
    "import tifffile\n",
    "\n",
    "arr = tifffile.imread('data/recording_20161007_143400.tif')"
   ]
  },
  {
   "cell_type": "code",
   "execution_count": 11,
   "id": "24b6082c",
   "metadata": {},
   "outputs": [],
   "source": [
    "arr = arr[::6, :512, :512]\n",
    "arr = np.transpose(arr, (1, 2, 0))"
   ]
  },
  {
   "cell_type": "code",
   "execution_count": 12,
   "id": "77a22ac7",
   "metadata": {},
   "outputs": [
    {
     "data": {
      "text/plain": [
       "(512, 512, 225)"
      ]
     },
     "execution_count": 12,
     "metadata": {},
     "output_type": "execute_result"
    }
   ],
   "source": [
    "arr.shape"
   ]
  },
  {
   "cell_type": "code",
   "execution_count": 13,
   "id": "d10f98f7",
   "metadata": {},
   "outputs": [
    {
     "name": "stdout",
     "output_type": "stream",
     "text": [
      "{'blob_detector': {'filtersize1': 100,\n",
      "                   'filtersize2': 4,\n",
      "                   'fsize': 7,\n",
      "                   'max_area': 50,\n",
      "                   'min_area': 20,\n",
      "                   'sigma': 1.25,\n",
      "                   'sparse': True},\n",
      " 'lccd': {'frame_divider': 100},\n",
      " 'roi_integration': {'max_area': 100,\n",
      "                     'min_area': 20,\n",
      "                     'overlap_threshold': 0.4,\n",
      "                     'sparse': True}}\n"
     ]
    }
   ],
   "source": [
    "with open('../config/config.json', 'r') as f:\n",
    "    config = json.load(f)\n",
    "import pprint\n",
    "pprint.pprint(config)"
   ]
  },
  {
   "cell_type": "code",
   "execution_count": 44,
   "id": "a462d769",
   "metadata": {},
   "outputs": [],
   "source": [
    "config[\"blob_detector\"][\"debug\"]=True\n",
    "config[\"roi_integration\"][\"sparse\"] = True\n",
    "lccd_sparse = LCCD(config)\n",
    "config[\"blob_detector\"][\"sparse\"] = False\n",
    "config[\"roi_integration\"][\"sparse\"] = False\n",
    "lccd_dense = LCCD(config)\n",
    "v = arr\n",
    "v = (v - v.min()) / (v.max() - v.min())\n",
    "tm1 = v[:, :, 0: 100]\n",
    "tm2 = v[:, :, 100: 200]"
   ]
  },
  {
   "cell_type": "code",
   "execution_count": 21,
   "id": "f73f39be",
   "metadata": {},
   "outputs": [],
   "source": [
    "roi_tm1_dense = lccd_dense.blob_detector.apply(tm1)\n",
    "label_mat2 = roi_tm1_dense[\"label_mat2\"]"
   ]
  },
  {
   "cell_type": "code",
   "execution_count": 38,
   "id": "690aca58",
   "metadata": {},
   "outputs": [
    {
     "name": "stdout",
     "output_type": "stream",
     "text": [
      "CPU times: user 144 ms, sys: 0 ns, total: 144 ms\n",
      "Wall time: 143 ms\n"
     ]
    }
   ],
   "source": [
    "%%time\n",
    "roi_sparse = oval_filter.oval_filter(label_mat2, sparse=True)"
   ]
  },
  {
   "cell_type": "code",
   "execution_count": 39,
   "id": "02cef22d",
   "metadata": {},
   "outputs": [
    {
     "name": "stdout",
     "output_type": "stream",
     "text": [
      "CPU times: user 589 ms, sys: 108 ms, total: 697 ms\n",
      "Wall time: 698 ms\n"
     ]
    }
   ],
   "source": [
    "%%time\n",
    "roi_dense = oval_filter.oval_filter(label_mat2, sparse=False)"
   ]
  },
  {
   "cell_type": "code",
   "execution_count": 32,
   "id": "4235a845",
   "metadata": {},
   "outputs": [
    {
     "data": {
      "text/plain": [
       "True"
      ]
     },
     "execution_count": 32,
     "metadata": {},
     "output_type": "execute_result"
    }
   ],
   "source": [
    "np.array_equal(roi_sparse.toarray(), roi_dense)"
   ]
  },
  {
   "cell_type": "code",
   "execution_count": 40,
   "id": "c75ecd74",
   "metadata": {},
   "outputs": [],
   "source": [
    "roi_b = lccd_dense.blob_detector.apply(tm2)[\"ROI\"]\n",
    "roi_a = roi_dense"
   ]
  },
  {
   "cell_type": "code",
   "execution_count": 41,
   "id": "fdfc8595",
   "metadata": {},
   "outputs": [
    {
     "name": "stdout",
     "output_type": "stream",
     "text": [
      "CPU times: user 17min 8s, sys: 6min 32s, total: 23min 40s\n",
      "Wall time: 1min 6s\n"
     ]
    }
   ],
   "source": [
    "%%time\n",
    "res_dense = lccd_dense.roi_integration.apply(roi_a, roi_b)"
   ]
  },
  {
   "cell_type": "code",
   "execution_count": 45,
   "id": "4409e600",
   "metadata": {},
   "outputs": [
    {
     "name": "stdout",
     "output_type": "stream",
     "text": [
      "CPU times: user 2.93 s, sys: 192 ms, total: 3.12 s\n",
      "Wall time: 3.12 s\n"
     ]
    }
   ],
   "source": [
    "%%time\n",
    "res_sparse = lccd_sparse.roi_integration.apply(roi_a, roi_b)"
   ]
  },
  {
   "cell_type": "code",
   "execution_count": 48,
   "id": "72d74609",
   "metadata": {},
   "outputs": [
    {
     "data": {
      "text/plain": [
       "True"
      ]
     },
     "execution_count": 48,
     "metadata": {},
     "output_type": "execute_result"
    }
   ],
   "source": [
    "np.array_equal(res_sparse.toarray(), res_dense)"
   ]
  },
  {
   "cell_type": "code",
   "execution_count": null,
   "id": "7eebf63a",
   "metadata": {},
   "outputs": [],
   "source": []
  }
 ],
 "metadata": {
  "kernelspec": {
   "display_name": "Python 3",
   "language": "python",
   "name": "python3"
  },
  "language_info": {
   "codemirror_mode": {
    "name": "ipython",
    "version": 3
   },
   "file_extension": ".py",
   "mimetype": "text/x-python",
   "name": "python",
   "nbconvert_exporter": "python",
   "pygments_lexer": "ipython3",
   "version": "3.8.10"
  }
 },
 "nbformat": 4,
 "nbformat_minor": 5
}
